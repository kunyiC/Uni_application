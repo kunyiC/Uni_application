{
 "cells": [
  {
   "cell_type": "markdown",
   "metadata": {},
   "source": [
    "# 大學特殊選才－－程式作品集-2\n",
    "# 生物物理：以隨機森林與人工神經網路，預測蛋白質-配體系統的結合親和力"
   ]
  },
  {
   "cell_type": "markdown",
   "metadata": {},
   "source": [
    "作者： 陳昆毅"
   ]
  },
  {
   "cell_type": "markdown",
   "metadata": {},
   "source": [
    "**\"\"\"\"\"\"\"\"\"\"\"\"\"\"\"\"\"\"\"\"\"\"\"\"\"\"\"\"\"\"\"\"\"\"\"\"\"\"\"\"\"\"\"\" 註記 \"\"\"\"\"\"\"\"\"\"\"\"\"\"\"\"\"\"\"\"\"\"\"\"\"\"\"\"\"\"\"\"\"\"\"\"\"\"\"\"\"\"\"\"**\n",
    "1. 此程式的部分內容是學習自 [Deep Learning for the Life Sciences](https://www.amazon.com/Deep-Learning-Life-Sciences-Microscopy/dp/1492039837) 此書，以 Python 語言撰寫。\n",
    "1. 此程式為申請大學特殊選才之備審資料中的程式作品集-2。\n",
    "1. 此程式使用的函式庫無法在 Windows OS 中執行，我是在 Linux OS (Ubuntu) 中執行。 \n",
    "\n",
    "**\"\"\"\"\"\"\"\"\"\"\"\"\"\"\"\"\"\"\"\"\"\"\"\"\"\"\"\"\"\"\"\"\"\"\"\"\"\"\"\"\"\"\"\"\"\"\"\"\"\"\"\"\"\"\"\"\"\"\"\"\"\"\"\"\"\"\"\"\"\"\"\"\"\"\"\"\"\"\"\"\"\"\"\"\"\"\"\"\"\"\"\"\"\"**"
   ]
  },
  {
   "cell_type": "markdown",
   "metadata": {},
   "source": [
    "### 大綱\n",
    "\n",
    "1. 序言\n",
    "1. 匯入 PDBBind 資料集，並對其進行特徵化\n",
    "1. 訓練隨機森林、人工神經網路模型\n",
    "    - 隨機森林模型\n",
    "    - 人工神經網路模型\n",
    "1. 以 $Pearson$ $R^2$ 作為衡量模型預測準確率的標準\n",
    "1. 對預測結果作圖\n",
    "    - 隨機森林模型\n",
    "    - 人工神經網路模型"
   ]
  },
  {
   "cell_type": "markdown",
   "metadata": {},
   "source": [
    "## (1) 序言"
   ]
  },
  {
   "cell_type": "markdown",
   "metadata": {},
   "source": [
    "了解小型分子如何在人體中與特定蛋白質產生鍵結，對於潛在藥物的發明是極為重要的；若我們能藉由設計某藥物分子與特定蛋白質產生鍵結，從而將該蛋白質的功能導引至我們想要的方向，這通常會有顯著的治療效果；癌症藥物 [Imatinib](https://en.wikipedia.org/wiki/Imatinib) 的突破，其部分原因是因 Imatinib 能與 BCR-ABL 蛋白質產生鍵結後，成為對數種酪氨酸激酶 (tyrosine kinase enzymes) 的特定抑制劑。\n",
    "\n",
    "此程式之目的是訓練 2 個機器學習模型 (隨機森林、人工神經網路) 來預測蛋白質-配體系統的結合親和力，並測試 2 個模型的預測表現。\n",
    "\n",
    "在進行機器學習作業前，我們能用視覺化的工具 ([NGLview](https://github.com/arose/nglview)) 去了解其資料庫的檔案內容；我們以一個 `2d3u.pdb` 檔案作舉例，其為一個 \"蛋白質-配體\" 的複合物，並以 X-ray crystallography 方式獲得其蛋白質結構 (檔案全名：X-ray crystal structure of hepatitis C virus RNA dependent RNA polymerase in complex with non-nucleoside analogue inhibitor，此 [link](https://www.rcsb.org/structure/2d3u) 為其資訊)；檔案內容包含各個原子在 3D 空間上的座標，座標單位是埃 (angstrom, $1 Å = 10^{-10}meters$)。\n",
    "\n",
    "執行以下程式前，請先至 [DeepChem 的 GitHub 網頁](https://github.com/deepchem)下載 \"[2d3u.pdb](https://github.com/deepchem/DeepLearningLifeSciences/tree/master/Chapter05)\" 檔案。"
   ]
  },
  {
   "cell_type": "code",
   "execution_count": 1,
   "metadata": {},
   "outputs": [
    {
     "data": {
      "application/vnd.jupyter.widget-view+json": {
       "model_id": "2ccfaf143adc4987b0698794511541a5",
       "version_major": 2,
       "version_minor": 0
      },
      "text/plain": [
       "_ColormakerRegistry()"
      ]
     },
     "metadata": {},
     "output_type": "display_data"
    },
    {
     "data": {
      "application/vnd.jupyter.widget-view+json": {
       "model_id": "97ce44e38456400b8a9e2255db5d4a02",
       "version_major": 2,
       "version_minor": 0
      },
      "text/plain": [
       "NGLWidget()"
      ]
     },
     "metadata": {},
     "output_type": "display_data"
    }
   ],
   "source": [
    "import nglview as nv\n",
    "\n",
    "view = nv.show_file(\"2d3u.pdb\")\n",
    "view.representations = [{\"type\": \"cartoon\", \n",
    "                         \"params\": {\"sele\": \"protein\", \n",
    "                                    \"color\": \"residueindex\"}},\n",
    "                        {\"type\": \"ball+stick\",\n",
    "                         \"params\": {\"sele\": \"ligand\"}}]\n",
    "view"
   ]
  },
  {
   "cell_type": "markdown",
   "metadata": {},
   "source": [
    "<h4 align='center'><img src=\"https://raw.githubusercontent.com/kunyiC/images/master/protein_1.png\" style=\"width:182px;height:180px;\"></h4>"
   ]
  },
  {
   "cell_type": "markdown",
   "metadata": {},
   "source": [
    "將圖片放大些："
   ]
  },
  {
   "cell_type": "markdown",
   "metadata": {},
   "source": [
    "<h4 align='center'><img src=\"https://raw.githubusercontent.com/kunyiC/images/master/protein_ligend_enlarge.jpg\" style=\"width:440px;height:270px;\"></h4>"
   ]
  },
  {
   "cell_type": "markdown",
   "metadata": {},
   "source": [
    "## (2) 匯入 PDBBind 資料集，並對其進行特徵化"
   ]
  },
  {
   "cell_type": "markdown",
   "metadata": {},
   "source": [
    "我們以 [PDBBind](https://www.rcsb.org/) 資料庫中的 `core sets` 進行實驗，將資料集中的每個 \"蛋白質-配體\" 結構進行特徵化後，把 `core sets` 分成3個子資料集 (訓練集、驗證集、測驗集)。 \n",
    "\n",
    "我們不用自行定義特徵化的方式，若想使用格狀特徵化 (grid featurization)，僅需呼叫 deepchem 的 [MoleculeNet](http://moleculenet.ai/) 模組，並於參數中標記 `featurizer=\"grid\" `，其便會自動執行。為了加速程式執行速度，我先至 DeepChem 的 GitHub 頁面下載並執行 \"[get_featurized_pdbbind.sh](https://github.com/deepchem/deepchem/tree/master/examples/pdbbind)\" 檔案。"
   ]
  },
  {
   "cell_type": "code",
   "execution_count": 13,
   "metadata": {},
   "outputs": [
    {
     "name": "stdout",
     "output_type": "stream",
     "text": [
      "\n",
      "Loading featurized and splitted dataset from:\n",
      "/tmp/from-pdbbind/full_protein-core-grid-random\n",
      "\n",
      "Loading dataset from disk.\n",
      "Loading dataset from disk.\n",
      "Loading dataset from disk.\n"
     ]
    }
   ],
   "source": [
    "import deepchem as dc\n",
    "\n",
    "tasks, datasets, transformers = dc.molnet.load_pdbbind(featurizer=\"grid\", \n",
    "                                                       split=\"random\", \n",
    "                                                       subset=\"core\")\n",
    "\n",
    "train_dataset, valid_dataset, test_dataset = datasets"
   ]
  },
  {
   "cell_type": "markdown",
   "metadata": {},
   "source": [
    "當然，若想自行去定義格狀特徵化的過程，deepchem 亦提供 `RdkitGridFeaturizer` 函式，其將有關 \"蛋白質-配體\" 結構的化學資訊轉化成一個向量，做為之後機器學習作業所需的輸入資料。\n",
    "\n",
    "下方程式提供如何設定函式的參數："
   ]
  },
  {
   "cell_type": "code",
   "execution_count": 3,
   "metadata": {},
   "outputs": [],
   "source": [
    "grid_featurizer = dc.feat.RdkitGridFeaturizer(\n",
    "    voxel_width=2.0,\n",
    "    feature_types=['hbond', 'salt_bridge', 'pi_stack',\n",
    "                   'cation_pi', 'ecfp', 'splif'],\n",
    "    sanitize=True, \n",
    "    flatten=True)"
   ]
  },
  {
   "cell_type": "markdown",
   "metadata": {},
   "source": [
    "1. `voxel_width=2.0`：設定[體積像素](https://zh.wikipedia.org/wiki/%E9%AB%94%E7%B4%A0) (Voxel, Volume Pixel) 於格狀 (grid) 中佔2埃個單位。\n",
    "\n",
    "\n",
    "2. `feature_types`：\n",
    "    - 設定在該 \"蛋白質-配體\" 結構中，有哪些生物物理的特徵是 `RdkitGridFeaturizer` 要去偵測的，在此行程式碼有：氫鍵 (hbond)、鹽橋 (salt_bridge)、$\\pi-\\pi$ 堆積作用  (pi_stack)、陽離子$-\\pi$ 交互作用 (cation_pi)。\n",
    "\n",
    "    - 要求 `RdkitGridFeaturizer` 去計算2種型態的化學指紋向量：[ECFP](https://pubs.acs.org/doi/10.1021/ci100050t) (Extended-Connectivity Fingerprints) 與 [SPLIF](https://pubs.acs.org/doi/10.1021/ci500319f) (Structural Protein–Ligand Interaction Fingerprints)\n",
    "    \n",
    "    \n",
    "3. `sanitize=True`：由於資料庫的資料可能會有異常情況，此參數會嘗試修正其偵測到的格式錯誤 (因有時實驗無法獲得足夠的解析率來辨認蛋白質的部分結構，因而造成該筆資料的部分缺陷)。\n",
    "\n",
    "\n",
    "4. `flatten=True`：此參數會把每筆輸入資料展開成1維的向量。"
   ]
  },
  {
   "cell_type": "markdown",
   "metadata": {},
   "source": [
    "## (3) 訓練隨機森林、人工神經網路模型"
   ]
  },
  {
   "cell_type": "markdown",
   "metadata": {},
   "source": [
    "以下訓練 2 個機器學習模型以比較各模型對蛋白質-配體系統的結合親和力之預測結果。"
   ]
  },
  {
   "cell_type": "markdown",
   "metadata": {},
   "source": [
    "### (A) 隨機森林模型"
   ]
  },
  {
   "cell_type": "code",
   "execution_count": 4,
   "metadata": {},
   "outputs": [],
   "source": [
    "from sklearn.ensemble import RandomForestRegressor\n",
    "\n",
    "# 建立100棵決策樹\n",
    "sklearn_RandomForest = RandomForestRegressor(n_estimators=100)\n",
    "model_1 = dc.models.SklearnModel(sklearn_RandomForest)\n",
    "model_1.fit(train_dataset)"
   ]
  },
  {
   "cell_type": "markdown",
   "metadata": {},
   "source": [
    "### (B) 人工神經網路模型"
   ]
  },
  {
   "cell_type": "markdown",
   "metadata": {},
   "source": [
    "使用 `dc.models.MultitaskRegressor` 以建立一個 2 層神經網路模型 (第 1 層有 2,000 個神經元，第 2 層有 1,000 個神經元)，Dropout 設為 0.5 防止過早 overfitting，並訓練此模型 200 次 (`epoch=200`)。"
   ]
  },
  {
   "cell_type": "code",
   "execution_count": null,
   "metadata": {},
   "outputs": [],
   "source": [
    "n_features = train_dataset.X.shape[1]\n",
    "\n",
    "model_2 = dc.models.MultitaskRegressor(n_tasks=len(tasks), \n",
    "                                       n_features=n_features,\n",
    "                                       layer_sizes=[2000, 1000],\n",
    "                                       dropouts=0.5, \n",
    "                                       learning_rate=0.0003)\n",
    "\n",
    "model_2.fit(train_dataset, nb_epoch=200)"
   ]
  },
  {
   "cell_type": "markdown",
   "metadata": {},
   "source": [
    "## (4) 以 $Pearson$ $R^2$ 作為衡量模型預測準確率的標準"
   ]
  },
  {
   "cell_type": "markdown",
   "metadata": {},
   "source": [
    "我們以 $Pearson$ $R^2$ 的分數作為衡量模型的預測準確度之指標，此分數範圍介於 $[-1, 1]$；當分數為 0 時，指預測情況 (predicted labels) 與真實情況 (true labels) 之間無相關性，意即該模型毫無作用。"
   ]
  },
  {
   "cell_type": "code",
   "execution_count": 7,
   "metadata": {},
   "outputs": [],
   "source": [
    "metric = dc.metrics.Metric(dc.metrics.pearson_r2_score)"
   ]
  },
  {
   "cell_type": "markdown",
   "metadata": {},
   "source": [
    "以下程式即以 $Pearson$ $R^2$ 作為衡量 2 個機器學習模型於訓練資料集、測試資料集的預測表現。"
   ]
  },
  {
   "cell_type": "code",
   "execution_count": 8,
   "metadata": {},
   "outputs": [
    {
     "name": "stdout",
     "output_type": "stream",
     "text": [
      "隨機森林模型: \n",
      "\n",
      "Pearson r squared 的訓練分數:\n",
      "computed_metrics: [0.9769913548933936]\n",
      "\n",
      "Pearson r squared 的測試分數:\n",
      "computed_metrics: [0.051589835719136404]\n"
     ]
    }
   ],
   "source": [
    "print(\"隨機森林模型: \\n\")\n",
    "print(\"Pearson r squared 的訓練分數:\")\n",
    "train_scores_1 = model_1.evaluate(train_dataset, [metric], transformers)\n",
    "print('')\n",
    "print(\"Pearson r squared 的測試分數:\")\n",
    "test_scores_1 = model_1.evaluate(test_dataset, [metric], transformers)"
   ]
  },
  {
   "cell_type": "code",
   "execution_count": 9,
   "metadata": {},
   "outputs": [
    {
     "name": "stdout",
     "output_type": "stream",
     "text": [
      "2-layer 神經網路模型: \n",
      "\n",
      "Pearson r squared 的訓練分數:\n",
      "computed_metrics: [0.987161688742337]\n",
      "\n",
      "Pearson r squared 的測試分數:\n",
      "computed_metrics: [0.23996476831254393]\n"
     ]
    }
   ],
   "source": [
    "print(\"2-layer 神經網路模型: \\n\")\n",
    "print(\"Pearson r squared 的訓練分數:\")\n",
    "train_scores_2 = model_2.evaluate(train_dataset, [metric], transformers)\n",
    "print('')\n",
    "print(\"Pearson r squared 的測試分數:\")\n",
    "test_scores_2 = model_2.evaluate(test_dataset, [metric], transformers)"
   ]
  },
  {
   "cell_type": "markdown",
   "metadata": {},
   "source": [
    "### 小結"
   ]
  },
  {
   "cell_type": "markdown",
   "metadata": {},
   "source": [
    "(1) 對於隨機森林模型： \n",
    "    \n",
    "    其在訓練集的預測分數為 0.98，而在測試集的預測分數僅為 0.05；能知道其對於已訓練過的資料之預測表現很好，但對於未看過的資料就表現得極差，從而推得該模型已 overfitting 。\n",
    "\n",
    "(2) 對於人工神經網路模型：\n",
    "\n",
    "    其在訓練集的預測分數為 0.99，而在測試集的預測分數為 0.24；同樣與隨機森林面臨 overfitting 的窘境，但表現是比隨機森林還佳。\n",
    "    \n",
    "\n",
    "我們將上述結果以作圖來表現－－"
   ]
  },
  {
   "cell_type": "markdown",
   "metadata": {},
   "source": [
    "## (5) 對預測結果作圖"
   ]
  },
  {
   "cell_type": "code",
   "execution_count": 17,
   "metadata": {},
   "outputs": [],
   "source": [
    "import matplotlib.pyplot as plt\n",
    "\n",
    "def img_show(model_name, real_score, pred_score):\n",
    "    plt.figure(figsize=(6, 4))\n",
    "    plt.title('Correlation of real values & predicted values for %s' % model_name, \n",
    "              fontsize=13)\n",
    "    plt.scatter(real_score, pred_score)\n",
    "    plt.xlabel('Real value', fontsize=12)\n",
    "    plt.ylabel('Pedicted value', fontsize=12)\n",
    "    plt.show()"
   ]
  },
  {
   "cell_type": "markdown",
   "metadata": {},
   "source": [
    "### (A) 隨機森林模型"
   ]
  },
  {
   "cell_type": "code",
   "execution_count": 18,
   "metadata": {},
   "outputs": [
    {
     "data": {
      "image/png": "[encoded data removed]",
      "text/plain": [
       "<Figure size 432x288 with 1 Axes>"
      ]
     },
     "metadata": {
      "needs_background": "light"
     },
     "output_type": "display_data"
    }
   ],
   "source": [
    "pred_score_1 = model_1.predict(test_dataset)\n",
    "real_score_1 = test_dataset.y\n",
    "\n",
    "img_show('random forest model', real_score_1, pred_score_1)"
   ]
  },
  {
   "cell_type": "markdown",
   "metadata": {},
   "source": [
    "### (B) 人工神經網路模型"
   ]
  },
  {
   "cell_type": "code",
   "execution_count": 19,
   "metadata": {},
   "outputs": [
    {
     "data": {
      "image/png": "[encoded data removed]",
      "text/plain": [
       "<Figure size 432x288 with 1 Axes>"
      ]
     },
     "metadata": {
      "needs_background": "light"
     },
     "output_type": "display_data"
    }
   ],
   "source": [
    "pred_score_2 = model_2.predict(test_dataset)\n",
    "real_score_2 = test_dataset.y\n",
    "\n",
    "img_show('2-layer neural network model', real_score_2, pred_score_2)"
   ]
  },
  {
   "cell_type": "code",
   "execution_count": null,
   "metadata": {},
   "outputs": [],
   "source": []
  }
 ],
 "metadata": {
  "kernelspec": {
   "display_name": "myenv",
   "language": "python",
   "name": "myenv"
  },
  "language_info": {
   "codemirror_mode": {
    "name": "ipython",
    "version": 3
   },
   "file_extension": ".py",
   "mimetype": "text/x-python",
   "name": "python",
   "nbconvert_exporter": "python",
   "pygments_lexer": "ipython3",
   "version": "3.6.9"
  }
 },
 "nbformat": 4,
 "nbformat_minor": 2
}
